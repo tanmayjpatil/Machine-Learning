{
  "nbformat": 4,
  "nbformat_minor": 0,
  "metadata": {
    "colab": {
      "provenance": []
    },
    "kernelspec": {
      "name": "python3",
      "display_name": "Python 3"
    },
    "language_info": {
      "name": "python"
    }
  },
  "cells": [
    {
      "cell_type": "code",
      "execution_count": null,
      "metadata": {
        "id": "ZLdTlEY3DGym"
      },
      "outputs": [],
      "source": [
        "from sklearn import datasets\n",
        "from sklearn import tree, model_selection\n",
        "from sklearn.model_selection import train_test_split\n",
        "\n",
        "seed = 42\n",
        "dataset = datasets.load_wine()\n",
        "X = dataset.data\n",
        "y = dataset.target\n",
        "X_train, X_test, y_train, y_test = train_test_split(X, y, test_size=0.25)\n",
        "\n",
        "kfold = model_selection.KFold(n_splits=10)"
      ]
    },
    {
      "cell_type": "code",
      "source": [
        "model = tree.DecisionTreeRegressor()"
      ],
      "metadata": {
        "id": "1sQX3ch2Em_l"
      },
      "execution_count": null,
      "outputs": []
    },
    {
      "cell_type": "code",
      "source": [
        "scoring = \"neg_mean_absolute_error\"\n",
        "\n",
        "results = model_selection.cross_val_score(model, X_train, y_train, cv=kfold, scoring=scoring)\n",
        "\n",
        "print(\"Mean Absolute Error: \", results.mean()) \n",
        "print(\"Standard Deviation: \", results.std())"
      ],
      "metadata": {
        "colab": {
          "base_uri": "https://localhost:8080/"
        },
        "id": "BFGqYlhKDd5J",
        "outputId": "19aab2c4-e658-4720-fd38-0f61448d9157"
      },
      "execution_count": null,
      "outputs": [
        {
          "output_type": "stream",
          "name": "stdout",
          "text": [
            "Mean Absolute Error:  -0.07472527472527472\n",
            "Standard Deviation:  0.07482217376065584\n"
          ]
        }
      ]
    },
    {
      "cell_type": "code",
      "source": [
        "scoring = \"neg_mean_squared_error\"\n",
        "\n",
        "results = model_selection.cross_val_score(model, X_train, y_train, cv=kfold, scoring=scoring)\n",
        "\n",
        "print(); print(\"Mean Squared Error: \", results.mean())\n",
        "print(\"Standard Deviation: \", results.std())"
      ],
      "metadata": {
        "colab": {
          "base_uri": "https://localhost:8080/"
        },
        "id": "wnGhQLGVE4k2",
        "outputId": "9f65cdd4-ee98-4048-c3e8-b053cf2a55ed"
      },
      "execution_count": null,
      "outputs": [
        {
          "output_type": "stream",
          "name": "stdout",
          "text": [
            "\n",
            "Mean Squared Error:  -0.08186813186813187\n",
            "Standard Deviation:  0.07064019702048105\n"
          ]
        }
      ]
    },
    {
      "cell_type": "code",
      "source": [
        "scoring = \"r2\"\n",
        "\n",
        "results = model_selection.cross_val_score(model, X_train, y_train, cv=kfold, scoring=scoring)\n",
        "\n",
        "print(); print(\"R squared val: \", results.mean()) \n",
        "print(\"Standard Deviation: \", results.std())"
      ],
      "metadata": {
        "colab": {
          "base_uri": "https://localhost:8080/"
        },
        "id": "0zycMdUpFBBL",
        "outputId": "0d7feb6a-cde4-4ef6-911f-1bc6c13c978f"
      },
      "execution_count": null,
      "outputs": [
        {
          "output_type": "stream",
          "name": "stdout",
          "text": [
            "\n",
            "R squared val:  0.8464208663208664\n",
            "Standard Deviation:  0.15121446198989383\n"
          ]
        }
      ]
    }
  ]
}